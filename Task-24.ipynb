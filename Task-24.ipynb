{
 "cells": [
  {
   "cell_type": "code",
   "execution_count": null,
   "metadata": {},
   "outputs": [],
   "source": [
    "def float_range(start,stop,step):\n",
    "    \"\"\" \n",
    "    (start) ile baslayip (stop) a kadar (step) miktari kadar degisen bir liste olusturur.\n",
    "    \"\"\"\n",
    "    list = []\n",
    "\n",
    "    while start!=stop:\n",
    "        list.append(round(float(start),2))\n",
    "        start += step\n",
    "\n",
    "        if  (stop - step) <= list[-1] <=  stop or\\\n",
    "             stop         <= list[-1] <= (stop - step):\n",
    "            return list\n",
    "  \n",
    "print(float_range(10, 0,-.3))\n"
   ]
  }
 ],
 "metadata": {
  "kernelspec": {
   "display_name": "Python 3.10.7 64-bit (microsoft store)",
   "language": "python",
   "name": "python3"
  },
  "language_info": {
   "name": "python",
   "version": "3.10.7"
  },
  "orig_nbformat": 4,
  "vscode": {
   "interpreter": {
    "hash": "ba33de22a5821ff61dd53097cd70511c2f19fae7b0f9e8b27ee69b6aca2c4956"
   }
  }
 },
 "nbformat": 4,
 "nbformat_minor": 2
}
