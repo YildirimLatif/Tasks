{
 "cells": [
  {
   "cell_type": "markdown",
   "metadata": {},
   "source": [
    "    Örneğin;\n",
    "    float_range(0,10,0.5) fonksiyonu çağrıldığında programın çıktı olarak\n",
    "    [0.0, 0.5, 1.0, 1.5, 2.0, 2.5, 3.0, 3.5, 4.0, 4.5, 5.0, 5.5, 6.0, 6.5, 7.0, 7.5, 8.0, 8.5, 9.0, 9.5]\n",
    "    değerlerini üretmesi gerekir."
   ]
  },
  {
   "cell_type": "code",
   "execution_count": 2,
   "metadata": {},
   "outputs": [
    {
     "name": "stdout",
     "output_type": "stream",
     "text": [
      "[10.0, 9.7, 9.4, 9.1, 8.8, 8.5, 8.2, 7.9, 7.6, 7.3, 7.0, 6.7, 6.4, 6.1, 5.8, 5.5, 5.2, 4.9, 4.6, 4.3, 4.0, 3.7, 3.4, 3.1, 2.8, 2.5, 2.2, 1.9, 1.6, 1.3, 1.0, 0.7, 0.4, 0.1]\n"
     ]
    }
   ],
   "source": [
    "def float_range(start,stop,step):\n",
    "    \"\"\" \n",
    "    (start) ile baslayip (stop) a kadar (step) miktari kadar degisen bir liste olusturur.\n",
    "    \"\"\"\n",
    "    list = []\n",
    "\n",
    "    while start!=stop:\n",
    "        list.append(round(float(start),2))\n",
    "        start += step\n",
    "\n",
    "        if  (stop - step) <= list[-1] <=  stop or\\\n",
    "             stop         <= list[-1] <= (stop - step):\n",
    "            return list\n",
    "  \n",
    "print(float_range(10, 0,-.3))\n"
   ]
  },
  {
   "cell_type": "code",
   "execution_count": 3,
   "metadata": {},
   "outputs": [
    {
     "name": "stdout",
     "output_type": "stream",
     "text": [
      "23: 256\n",
      "23: Ahmet\n",
      "23: 12\n",
      "23: dur\n"
     ]
    }
   ],
   "source": [
    "number = iter([256, 'Ahmet', 12])                                #   Yinelenebilir nesneler \"iter()\" fonksiyonu ile yineleyici döndürülür\n",
    "print('23:', next(number, 'dur'))                                #   \"next()\" iterable nesneler arasindan ilk buldugundan baslayarak her printte sonrakini gösterir\n",
    "print('23:', next(number, 'dur'))                                #   Nesnelerin döndürülebilmesi icin \"iter()\" fonksiyonu ile kullanilmasi gerekir\n",
    "print('23:', next(number, 'dur'))                                #   Bu komut \"list, set, tuple, dict\" ile birlikte kullanilabilir\n",
    "print('23:', next(number, 'dur'))  "
   ]
  },
  {
   "cell_type": "code",
   "execution_count": 4,
   "metadata": {},
   "outputs": [
    {
     "name": "stdout",
     "output_type": "stream",
     "text": [
      "21: True False True\n",
      "22: True True False\n"
     ]
    }
   ],
   "source": [
    "name, num, bos = ['ali', 'veli'], ['can', False], [] \n",
    "print('21:', all(name), all(num), all(bos))                      #   Yinelenebilir yada bos degerlerde True verir. \"And\" mantigi ile calisir. \n",
    "print('22:', any(name), any(num), any(bos)) "
   ]
  }
 ],
 "metadata": {
  "kernelspec": {
   "display_name": "Python 3.10.7 64-bit (microsoft store)",
   "language": "python",
   "name": "python3"
  },
  "language_info": {
   "codemirror_mode": {
    "name": "ipython",
    "version": 3
   },
   "file_extension": ".py",
   "mimetype": "text/x-python",
   "name": "python",
   "nbconvert_exporter": "python",
   "pygments_lexer": "ipython3",
   "version": "3.10.7"
  },
  "orig_nbformat": 4,
  "vscode": {
   "interpreter": {
    "hash": "ba33de22a5821ff61dd53097cd70511c2f19fae7b0f9e8b27ee69b6aca2c4956"
   }
  }
 },
 "nbformat": 4,
 "nbformat_minor": 2
}
