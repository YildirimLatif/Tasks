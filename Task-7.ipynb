{
 "cells": [ 
  {
   "cell_type": "markdown",
   "metadata": {},
   "source": [
    "    Task-7: text = 'In God wee  Trust' :nach_unten_zeigen:\n",
    "        In the text below, accidentally the number the word “we” is wrong written. Remove the additional “e” letter and print the correct text.\n",
    "        You can also use indexing/slicing/methods of string."
   ]
  },
  {
   "cell_type": "code",
   "execution_count": 1,
   "metadata": {},
   "outputs": [
    {
     "name": "stdout",
     "output_type": "stream",
     "text": [
      "In God we  Trust\n"
     ]
    }
   ],
   "source": [
    "text = 'In God wee  Trust'\n",
    "print(text.replace(\"\"\"wee\"\"\", \"\"\"we\"\"\"))"
   ]
  }
 ],
 "metadata": {
  "kernelspec": {
   "display_name": "Python 3.10.7 64-bit (microsoft store)",
   "language": "python",
   "name": "python3"
  },
  "language_info": {
   "codemirror_mode": {
    "name": "ipython",
    "version": 3
   },
   "file_extension": ".py",
   "mimetype": "text/x-python",
   "name": "python",
   "nbconvert_exporter": "python",
   "pygments_lexer": "ipython3",
   "version": "3.10.7"
  },
  "orig_nbformat": 4,
  "vscode": {
   "interpreter": {
    "hash": "ba33de22a5821ff61dd53097cd70511c2f19fae7b0f9e8b27ee69b6aca2c4956"
   }
  }
 },
 "nbformat": 4,
 "nbformat_minor": 2
}
