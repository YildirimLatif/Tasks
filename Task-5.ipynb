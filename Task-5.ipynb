{
 "cells": [
  {
   "cell_type": "markdown",
   "metadata": {},
   "source": [
    "    Task-5:How To Convert  from Fahrenheit to Celsius Degree in Python?\n",
    "    Your can use the following formula for converting degree Fahrenheit into degree Celsius:"
   ]
  },
  {
   "cell_type": "code",
   "execution_count": 1,
   "metadata": {},
   "outputs": [
    {
     "name": "stdout",
     "output_type": "stream",
     "text": [
      "Hava sicakligi : 6.11 celcius\n"
     ]
    }
   ],
   "source": [
    "fahrenheit = int(input(\"Cevirmek istediginiz fahrenheit degerini giriniz: \"))\n ",
    "celcius = float((fahrenheit-32)/1.8)\n",
    "print(f\"Hava sicakligi : {celcius:.2f} celcius\")"
   ]
  }
 ],
 "metadata": {
  "kernelspec": {
   "display_name": "Python 3.10.7 64-bit (microsoft store)",
   "language": "python",
   "name": "python3"
  },
  "language_info": {
   "codemirror_mode": {
    "name": "ipython",
    "version": 3
   },
   "file_extension": ".py",
   "mimetype": "text/x-python",
   "name": "python",
   "nbconvert_exporter": "python",
   "pygments_lexer": "ipython3",
   "version": "3.10.7"
  },
  "orig_nbformat": 4,
  "vscode": {
   "interpreter": {
    "hash": "ba33de22a5821ff61dd53097cd70511c2f19fae7b0f9e8b27ee69b6aca2c4956"
   }
  }
 },
 "nbformat": 4,
 "nbformat_minor": 2
}
