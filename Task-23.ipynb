{
 "cells": [
  {
   "cell_type": "markdown",
   "metadata": {},
   "source": [
    "Task-23- Histogram: 1-10 arası n (n=20 gibi) adet rasgele sayı üretip, bir listede tutalım.\n",
    "# Listedeki sayıların histogramını (hangi sayıdan kaç adet üretildiğini)\n",
    "# ekranda gösteren programı kodlayınız.\n",
    "# İstenen Örnek Çıktı:\n",
    "\"\"\"\n",
    "liste = [10, 9, 10, 2, 3, 5, 7, 6, 10, 10, 4, 10, 5, 9, 4, 3, 5, 6, 9]\n",
    "10 : *****\n",
    "7 : *\n",
    "9 : ***\n",
    "6 : **\n",
    "3 : ***\n",
    "5 : ***\n",
    "4 : **\n",
    "2 : *\n",
    "\"\"\"\n"
   ]
  },
  {
   "cell_type": "code",
   "execution_count": 4,
   "metadata": {},
   "outputs": [
    {
     "name": "stdout",
     "output_type": "stream",
     "text": [
      "liste =  [3, 8, 10, 9, 6, 8, 9, 3, 9, 1, 10, 7, 2, 10, 7, 10, 3, 3, 5, 8]\n",
      "3 :  ****\n",
      "8 :  ***\n",
      "10 :  ****\n",
      "9 :  ***\n",
      "6 :  *\n",
      "1 :  *\n",
      "7 :  **\n",
      "2 :  *\n",
      "5 :  *\n"
     ]
    }
   ],
   "source": [
    "# Task-23- Histogram: 1-10 arası n (n=20 gibi) adet rasgele\n",
    "\n",
    "import random\n",
    "liste = []\n",
    "histogram = {}\n",
    "for i in range(20):\n",
    "    a = random.randint(1,10)\n",
    "    liste.append(a)\n",
    "    histogram[a] = histogram.get(a,0) + 1\n",
    "\n",
    "print(\"liste = \",liste)\n",
    "# print(histogram)\n",
    "for j in histogram:\n",
    "    print(f\"{j} : \",histogram[j]*\"*\")"
   ]
  },
  {
   "cell_type": "code",
   "execution_count": null,
   "metadata": {},
   "outputs": [],
   "source": [
    "import random\n",
    "def historag(n):\n",
    "    '''fonksiyon n adet sayi üretir ve her sayinin frekansini belirleyerek histogramini olusturur.'''\n",
    "\n",
    "    l=[]\n",
    "    for i in range(n):\n",
    "        l.append(random.randint(1,11))\n",
    "    print(l)\n",
    "    k=set(l)\n",
    "    l_saf=list(k)\n",
    "    for j in range(len(l_saf)):\n",
    "        print(l_saf[j],':', l.count(l_saf[j])*'*')"
   ]
  }
 ],
 "metadata": {
  "kernelspec": {
   "display_name": "Python 3.10.7 64-bit (microsoft store)",
   "language": "python",
   "name": "python3"
  },
  "language_info": {
   "codemirror_mode": {
    "name": "ipython",
    "version": 3
   },
   "file_extension": ".py",
   "mimetype": "text/x-python",
   "name": "python",
   "nbconvert_exporter": "python",
   "pygments_lexer": "ipython3",
   "version": "3.10.7"
  },
  "orig_nbformat": 4,
  "vscode": {
   "interpreter": {
    "hash": "ba33de22a5821ff61dd53097cd70511c2f19fae7b0f9e8b27ee69b6aca2c4956"
   }
  }
 },
 "nbformat": 4,
 "nbformat_minor": 2
}
