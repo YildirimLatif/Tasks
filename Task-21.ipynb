{
 "cells": [
  {
   "cell_type": "markdown",
   "metadata": {},
   "source": [
    "Task-21: Dijital Kronometre: İç içe döngüleri ve time.sleep(1) metodunu kullanarak dijital bir kronometreyi modelleyiniz;\n",
    "\n",
    "00:01:58 ## Saat:dakika:saniye"
   ]
  },
  {
   "cell_type": "code",
   "execution_count": 1,
   "metadata": {},
   "outputs": [
    {
     "name": "stdout",
     "output_type": "stream",
     "text": [
      "00:00:05\r"
     ]
    }
   ],
   "source": [
    "import time\n",
    "for i in range(24):\n",
    "    for j in range(60):\n",
    "        for k in range(60):\n",
    "            time.sleep(1)\n",
    "            # print(\"\\b\\b\\b\\b\", end=\"\")\n",
    "            print(f\"{i:02d}:{j:02d}:{k:02d}\",end=\"\\r\")"
   ]
  }
 ],
 "metadata": {
  "kernelspec": {
   "display_name": "Python 3.10.7 64-bit (microsoft store)",
   "language": "python",
   "name": "python3"
  },
  "language_info": {
   "codemirror_mode": {
    "name": "ipython",
    "version": 3
   },
   "file_extension": ".py",
   "mimetype": "text/x-python",
   "name": "python",
   "nbconvert_exporter": "python",
   "pygments_lexer": "ipython3",
   "version": "3.10.7"
  },
  "orig_nbformat": 4,
  "vscode": {
   "interpreter": {
    "hash": "ba33de22a5821ff61dd53097cd70511c2f19fae7b0f9e8b27ee69b6aca2c4956"
   }
  }
 },
 "nbformat": 4,
 "nbformat_minor": 2
}
