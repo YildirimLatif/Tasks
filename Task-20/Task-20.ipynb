{
 "cells": [
  {
   "cell_type": "markdown",
   "metadata": {},
   "source": [
    "Task -20(Comfortable Words): Find out if the given word is \"comfortable words\" in relation to the ten-finger keyboard use."
   ]
  },
  {
   "cell_type": "markdown",
   "metadata": {},
   "source": [
    "A comfortable word is a word which you can type always alternating the hand you type with (assuming you type using a Q-keyboard and use of the ten-fingers standard). "
   ]
  },
  {
   "cell_type": "markdown",
   "metadata": {},
   "source": [
    "The word will always be a string consisting of only letters from a to z."
   ]
  },
  {
   "cell_type": "markdown",
   "metadata": {},
   "source": [
    "Write a program to returns True if it's a comfortable word or False otherwise."
   ]
  },
  {
   "cell_type": "code",
   "execution_count": 5,
   "metadata": {},
   "outputs": [
    {
     "name": "stdout",
     "output_type": "stream",
     "text": [
      "['k', 'r', 'a', 'n', 'k', 'e', 'n', 'h', 'a', 'u', 's'] ist komfortables Wort\n"
     ]
    }
   ],
   "source": [
    "wort = list(input(\"Bitte geben Sie ein Wort ein\").lower())\n",
    "left = list(\"qwertasdfgzxcvb\")\n",
    "reight = list(\"yuiophjklöänm\")\n",
    "R = L = False\n",
    "\n",
    "for i in range(len(wort)):\n",
    "    if wort[i] in left:\n",
    "        L = True\n",
    "    elif wort[i] in reight:\n",
    "        R = True\n",
    "if R == L:\n",
    "    print(f\"{wort} ist komfortables Wort\")\n",
    "else:\n",
    "    print(f\"{wort} is kein Komfortables Wort\")"
   ]
  },
  {
   "cell_type": "code",
   "execution_count": 3,
   "metadata": {},
   "outputs": [
    {
     "name": "stdout",
     "output_type": "stream",
     "text": [
      "krankenhaus ist komfortables Wort\n"
     ]
    }
   ],
   "source": [
    "wort = input(\"Bitte geben Sie ein Wort ein\").lower()\n",
    "left = \"qwertasdfgzxcvb\"\n",
    "reight = \"yuiophjklöänm\"\n",
    "R = L = False\n",
    "\n",
    "for i in wort:\n",
    "    if i in left:\n",
    "        L = True\n",
    "    elif i in reight:\n",
    "        R = True\n",
    "\n",
    "print(L and R and f\"{wort} ist komfortables Wort\" or f\"{wort} is kein Komfortables Wort\")"
   ]
  }
 ],
 "metadata": {
  "kernelspec": {
   "display_name": "Python 3.10.7 64-bit (microsoft store)",
   "language": "python",
   "name": "python3"
  },
  "language_info": {
   "codemirror_mode": {
    "name": "ipython",
    "version": 3
   },
   "file_extension": ".py",
   "mimetype": "text/x-python",
   "name": "python",
   "nbconvert_exporter": "python",
   "pygments_lexer": "ipython3",
   "version": "3.10.7"
  },
  "orig_nbformat": 4,
  "vscode": {
   "interpreter": {
    "hash": "ba33de22a5821ff61dd53097cd70511c2f19fae7b0f9e8b27ee69b6aca2c4956"
   }
  }
 },
 "nbformat": 4,
 "nbformat_minor": 2
}
