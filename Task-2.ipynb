{
 "cells": [
  {
   "cell_type": "markdown",
   "metadata": {},
   "source": [
    "Task-2: https://ascii.art/ adresindeki \"\\N{cow}\" /:kuh2: elemanını tek print() kullanarak ekrana yazdırınız..."
   ]
  },
  {
   "cell_type": "code",
   "execution_count": 3,
   "metadata": {},
   "outputs": [
    {
     "name": "stdout",
     "output_type": "stream",
     "text": [
      " \n",
      " ________________________________________ \n",
      "( The best cure for insomnia is to get a )\n",
      "( lot of sleep. -W.C. Fields             )\n",
      " ---------------------------------------- \n",
      "        o   ^__^\n",
      "         o  (oo)\\_______\n",
      "            (__)\\       )\\/\\\n",
      "                ||----w |\n",
      "                ||     ||\n",
      "\n"
     ]
    }
   ],
   "source": [
    "kuh2 = \"\"\" \n",
    " ________________________________________   \n",
    "( The best cure for insomnia is to get a )  \n",
    "( lot of sleep. -W.C. Fields             )  \n",
    " ----------------------------------------   \n",
    "        o   ^__^\n",
    "         o  (oo)\\_______\n",
    "            (__)\\       )\\/\\\\\n",
    "                ||----w |\n",
    "                ||     ||\n",
    "\"\"\"\n",
    "print(kuh2)"
   ]
  }
 ],
 "metadata": {
  "kernelspec": {
   "display_name": "Python 3.10.7 64-bit (microsoft store)",
   "language": "python",
   "name": "python3"
  },
  "language_info": {
   "codemirror_mode": {
    "name": "ipython",
    "version": 3
   },
   "file_extension": ".py",
   "mimetype": "text/x-python",
   "name": "python",
   "nbconvert_exporter": "python",
   "pygments_lexer": "ipython3",
   "version": "3.10.7"
  },
  "orig_nbformat": 4,
  "vscode": {
   "interpreter": {
    "hash": "ba33de22a5821ff61dd53097cd70511c2f19fae7b0f9e8b27ee69b6aca2c4956"
   }
  }
 },
 "nbformat": 4,
 "nbformat_minor": 2
}
