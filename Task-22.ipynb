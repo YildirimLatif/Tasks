{
 "cells": [
  {
   "cell_type": "markdown",
   "metadata": {},
   "source": [
    "Task-22: Kendi built-in fonksiyonumu yazıyorum. Python built-in fonksiyonlardan ('bin', 'bool', 'callable', 'chr', 'divmod', 'enumerate', 'eval', 'filter', 'help', 'hex', 'len', 'max', 'min', 'oct', 'ord', 'pow', 'range', 'reversed', 'round', 'slice', 'sorted',...) kim hangisini aldı veya alacak ise buraya (reply yaparak) belirtirse sevinirim;  [Adem bey: 'abs', Türker bey: 'eval', Bekir bey: 'len', Sefa bey: 'max',  Adem bey: 'min', Latif bey: 'sum' gibi]. Kolay gelsin...."
   ]
  },
  {
   "cell_type": "code",
   "execution_count": null,
   "metadata": {},
   "outputs": [],
   "source": [
    "def my_sum(numbers):\n",
    "        count= 0\n",
    "        for i in numbers:\n",
    "            count +=i\n",
    "        return count\n",
    "#test edelim\n",
    "my_sum([1,2,3,4,5])"
   ]
  }
 ],
 "metadata": {
  "kernelspec": {
   "display_name": "Python 3.10.7 64-bit (microsoft store)",
   "language": "python",
   "name": "python3"
  },
  "language_info": {
   "name": "python",
   "version": "3.10.7"
  },
  "orig_nbformat": 4,
  "vscode": {
   "interpreter": {
    "hash": "ba33de22a5821ff61dd53097cd70511c2f19fae7b0f9e8b27ee69b6aca2c4956"
   }
  }
 },
 "nbformat": 4,
 "nbformat_minor": 2
}
