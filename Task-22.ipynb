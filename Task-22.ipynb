{
 "cells": [
  {
   "cell_type": "markdown",
   "metadata": {},
   "source": [
    "Task-22: Kendi built-in fonksiyonumu yazıyorum. Python built-in fonksiyonlardan ('bin', 'bool', 'callable', 'chr', 'divmod', 'enumerate', 'eval', 'filter', 'help', 'hex', 'len', 'max', 'min', 'oct', 'ord', 'pow', 'range', 'reversed', 'round', 'slice', 'sorted',...) kim hangisini aldı veya alacak ise buraya (reply yaparak) belirtirse sevinirim;  [Adem bey: 'abs', Türker bey: 'eval', Bekir bey: 'len', Sefa bey: 'max',  Adem bey: 'min', Latif bey: 'sum' gibi]. Kolay gelsin...."
   ]
  },
  {
   "cell_type": "code",
   "execution_count": null,
   "metadata": {},
   "outputs": [],
   "source": [
    "def my_sum(numbers):\n",
    "        count= 0\n",
    "        for i in numbers:\n",
    "            count +=i\n",
    "        return count\n",
    "#test edelim\n",
    "my_sum([1,2,3,4,5])"
   ]
  }
 ],
 "metadata": {
  "language_info": {
   "name": "python"
  },
  "orig_nbformat": 4
 },
 "nbformat": 4,
 "nbformat_minor": 2
}
