{
 "cells": [
  {
   "cell_type": "markdown",
   "metadata": {},
   "source": [
    "    Task 29. Hangman Oyunu: Program, ekteki tdk_kelime_list.txt dosyasından rastgele bir kelime seçecektir/okuyacaktır ve kullanıcıdan o kelimeyi bilmesi istenecektir. Programın istenen çıktısı yandaki görselde verilmiştir. (Not. Öncelikle verilen dosyadan rastgele kelime seçebilmeli, sonra o seçilen kelimeyi harf harf bilmeye çalışmalıyız.) (bearbeitet) "
   ]
  },
  {
   "cell_type": "code",
   "execution_count": null,
   "metadata": {},
   "outputs": [],
   "source": [
    "#Task-29\n",
    "\n",
    "import random\n",
    "import time\n",
    "kelimeler = open(\"tdk_kelime_list.txt\", \"r\", encoding=\"utf-8\")\n",
    "sozluk = [i[:-1] for i in kelimeler]\n",
    "kelimeler.close()\n",
    "kelime = sozluk[random.randint(0,len(sozluk))].lower()\n",
    "hedef = len(kelime)*\"_\".split()\n",
    "hak = 6\n",
    "hangman=['\\n  +----+\\n  o    |\\n -|-   | \\n / \\\\   |\\n     _===_\\n', '\\n  +----+\\n  o    |\\n -|-   | \\n /     |\\n     _===_\\n', '\\n  +----+\\n  o    |\\n -|-   | \\n       |\\n     _===_\\n', '\\n  +----+\\n  o    |\\n -|    |  \\n       |\\n     _===_\\n', '\\n  +----+\\n  o    |\\n  |    | \\n       |\\n     _===_\\n', '\\n  +----+\\n  o    |\\n       | \\n       |\\n     _===_\\n', '\\n  +----+\\n       |\\n       | \\n       |\\n     _===_\\n']\n",
    "print(f\"Kelime: {''.join(hedef)}\\n{hangman[hak]}\")\n",
    "while True:\n",
    "    x = input(\"Hadi bakalim \").lower()     \n",
    "    if x in kelime:\n",
    "        if x not in hedef:\n",
    "            for i in range(len(kelime)):\n",
    "                if kelime.startswith(x, i):\n",
    "                    hedef[i] = x\n",
    "            if kelime == ''.join(hedef):\n",
    "                print(\"Tebrikler\")\n",
    "                break        \n",
    "            print(f\"{x}\\nDogru\\nKelime: {''.join(hedef)}\\n{hangman[hak]}\")          \n",
    "        else:            \n",
    "            print(f\"{x} Hahrfini daha önce girdiniz\")\n",
    "    else:\n",
    "        hak -= 1\n",
    "        if hak == 0:\n",
    "            print(f\"Kazbettiniz :{kelime}\")\n",
    "            break\n",
    "        print(f\"{x}\\nYanlis\\nKelime: {''.join(hedef)}\\n{hangman[hak]}\")\n",
    "    time.sleep(1)    "
   ]
  },
  {
   "cell_type": "code",
   "execution_count": null,
   "metadata": {},
   "outputs": [],
   "source": [
    "#Biraz daha gelistirelim\n"
    "import random\n",
    "import time\n",
    "kelimeler = open(\"tdk_kelime_list.txt\", encoding=\"utf-8\")\n",
    "sozluk = kelimeler.read().split()\n",
    "kelimeler.close()\n",
    "kelime = sozluk[random.randint(0,len(sozluk)-1)].lower()\n",
    "hedef = len(kelime)*\"_\".split()\n",
    "hak = 6\n",
    "hangman=['\\n  +----+\\n  o    |\\n -|-   | \\n / \\\\   |\\n     _===_\\n', '\\n  +----+\\n  o    |\\n -|-   | \\n /     |\\n     _===_\\n', '\\n  +----+\\n  o    |\\n -|-   | \\n       |\\n     _===_\\n', '\\n  +----+\\n  o    |\\n -|    |  \\n       |\\n     _===_\\n', '\\n  +----+\\n  o    |\\n  |    | \\n       |\\n     _===_\\n', '\\n  +----+\\n  o    |\\n       | \\n       |\\n     _===_\\n', '\\n  +----+\\n       |\\n       | \\n       |\\n     _===_\\n']\n",
    "print(f\"Kelime: {''.join(hedef)}\\n{hangman[hak]}\")\n",
    "\n",
    "while True:\n",
    "    x = input(\"Hadi bakalim \").lower()\n",
    "    \n",
    "    if x in kelime:\n",
    "        if x not in hedef:\n",
    "            for i in range(len(kelime)):\n",
    "                if kelime.startswith(x, i):\n",
    "                    hedef[i] = x\n",
    "            if kelime == ''.join(hedef):\n",
    "                print(\"Tebrikler\")\n",
    "                break        \n",
    "            print(f\"{x}\\nDogru\\nKelime: {''.join(hedef)}\\n{hangman[hak]}\")          \n",
    "        else:            \n",
    "            print(f\"{x} Hahrfini daha önce girdiniz\")\n",
    "    else:\n",
    "        hak -= 1\n",
    "        if hak == 0:\n",
    "            print(f\"Kazbettiniz :{kelime}\")\n",
    "            break\n",
    "        print(f\"{x}\\nYanlis\\nKelime: {''.join(hedef)}\\n{hangman[hak]}\")\n",
    "    time.sleep(1)"
   ]
  },
  {
   "cell_type": "code",
   "execution_count": null,
   "metadata": {},
   "outputs": [],
   "source": [
    "#Daha da gelistirmek lazimmis\n"
    "import random\n",
    "import time\n",
    "import re\n",
    "kelimeler = open(\"tdk_kelime_list.txt\", encoding=\"utf-8\")\n",
    "sozluk = kelimeler.read().split()\n",
    "kelimeler.close()\n",
    "kelime = sozluk[random.randint(0,len(sozluk)-1)].lower()\n",
    "hedef = len(kelime)*\"_\".split()\n",
    "hata = set()\n",
    "hak = 6\n",
    "hangman=['\\n  +----+\\n  o    |\\n -|-   | \\n / \\\\   |\\n     _===_\\n', '\\n  +----+\\n  o    |\\n -|-   | \\n /     |\\n     _===_\\n', '\\n  +----+\\n  o    |\\n -|-   | \\n       |\\n     _===_\\n', '\\n  +----+\\n  o    |\\n -|    |  \\n       |\\n     _===_\\n', '\\n  +----+\\n  o    |\\n  |    | \\n       |\\n     _===_\\n', '\\n  +----+\\n  o    |\\n       | \\n       |\\n     _===_\\n', '\\n  +----+\\n       |\\n       | \\n       |\\n     _===_\\n']\n",
    "print(f\"Kelime: {''.join(hedef)}\\n{hangman[hak]}\")\n",
    "\n",
    "while True:\n",
    "    t = input(\"Hadi bakalim \").lower()\n",
    "    x = re.search(t,kelime)  \n",
    "    if x != None:\n",
    "        if t not in hedef:\n",
    "            for i in re.finditer(t,kelime):\n",
    "                hedef[i.start()] = t\n",
    "            if kelime == ''.join(hedef):\n",
    "                print(\"Tebrikler\")\n",
    "                print(f\"{t}\\nDogru\\nTebrikler, Kelime: {''.join(hedef)}\")\n",
    "                break        \n",
    "            print(f\"{t}\\nDogru\\nKelime: {''.join(hedef)}\\n{hangman[hak]}\")          \n",
    "        else:            \n",
    "            print(f\"{t} Hahrfini daha önce girdiniz\")\n",
    "    else:\n",
    "        if t in hata:\n",
    "            print(f\"{t} Harfini daha önce girdiniz\")            \n",
    "        else:            \n",
    "            hak -= 1\n",
    "            if hak == 0:\n",
    "                print(f\"Kaybettiniz :{kelime}\")\n",
    "                break\n",
    "            print(f\"{t}\\nYanlis\\nKelime: {''.join(hedef)}\\n{hangman[hak]}\")\n",
    "        hata.add(t)\n",
    "    time.sleep(1)"
   ]
  }
 ],
 "metadata": {
  "kernelspec": {
   "display_name": "Python 3.10.7 64-bit (microsoft store)",
   "language": "python",
   "name": "python3"
  },
  "language_info": {
   "codemirror_mode": {
    "name": "ipython",
    "version": 3
   },
   "file_extension": ".py",
   "mimetype": "text/x-python",
   "name": "python",
   "nbconvert_exporter": "python",
   "pygments_lexer": "ipython3",
   "version": "3.10.7"
  },
  "orig_nbformat": 4,
  "vscode": {
   "interpreter": {
    "hash": "ba33de22a5821ff61dd53097cd70511c2f19fae7b0f9e8b27ee69b6aca2c4956"
   }
  }
 },
 "nbformat": 4,
 "nbformat_minor": 2
}
