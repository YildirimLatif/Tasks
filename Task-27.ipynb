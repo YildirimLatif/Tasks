{
 "cells": [
  {
   "cell_type": "markdown",
   "metadata": {},
   "source": [
    "# Bu programın çıktısını\n",
    "\" Doğum gününe 336 gün, 22 saat, 15 dakika, 33 saniye kaldı..\" şeklinde düzenleyiniz. (bearbeitet) "
   ]
  },
  {
   "cell_type": "code",
   "execution_count": 1,
   "metadata": {},
   "outputs": [
    {
     "name": "stdout",
     "output_type": "stream",
     "text": [
      "Doğum gününe 331 gün kaldı.\n"
     ]
    }
   ],
   "source": [
    "from datetime import date\n",
    "bugun = date.today()\n",
    "ay  = 10\n",
    "gun = 17\n",
    "dogum_gunum = date(bugun.year, ay, gun)\n",
    "if dogum_gunum<bugun:\n",
    "    dogum_gunum = dogum_gunum.replace(year=bugun.year+1)\n",
    "print(f\"Doğum gününe {(dogum_gunum-bugun).days} gün kaldı.\")"
   ]
  },
  {
   "cell_type": "code",
   "execution_count": 21,
   "metadata": {},
   "outputs": [
    {
     "name": "stdout",
     "output_type": "stream",
     "text": [
      "Doğum gününe 330 gün, 23 saat, 46 dakika, 41 saniye kaldı.\n"
     ]
    }
   ],
   "source": [
    "from datetime import datetime\n",
    "now = datetime.now()\n",
    "ay  = 10\n",
    "gun = 17\n",
    "dogum_gunum = datetime(now.year, ay, gun)\n",
    "if dogum_gunum<now:\n",
    "    dogum_gunum = dogum_gunum.replace(year=now.year+1)\n",
    "print(f\"Doğum gününe {(dogum_gunum-now).days} gün, {now.hour} saat, {now.minute} dakika, {now.second} saniye kaldı.\")"
   ]
  },
  {
   "cell_type": "code",
   "execution_count": 24,
   "metadata": {},
   "outputs": [
    {
     "name": "stdout",
     "output_type": "stream",
     "text": [
      "237 days, 0 hours, 07 minutes, 54 seconds left"
     ]
    },
    {
     "ename": "KeyboardInterrupt",
     "evalue": "",
     "output_type": "error",
     "traceback": [
      "\u001b[1;31m---------------------------------------------------------------------------\u001b[0m",
      "\u001b[1;31mKeyboardInterrupt\u001b[0m                         Traceback (most recent call last)",
      "Cell \u001b[1;32mIn [24], line 21\u001b[0m\n\u001b[0;32m     18\u001b[0m sec \u001b[39m=\u001b[39m hour_min_sec[\u001b[39m2\u001b[39m][:\u001b[39m2\u001b[39m]\n\u001b[0;32m     20\u001b[0m \u001b[39mprint\u001b[39m(\u001b[39mf\u001b[39m\u001b[39m\"\u001b[39m\u001b[39m\\r\u001b[39;00m\u001b[39m{\u001b[39;00mdays\u001b[39m}\u001b[39;00m\u001b[39m days, \u001b[39m\u001b[39m{\u001b[39;00mhour\u001b[39m}\u001b[39;00m\u001b[39m hours, \u001b[39m\u001b[39m{\u001b[39;00m\u001b[39mmin\u001b[39m\u001b[39m}\u001b[39;00m\u001b[39m minutes, \u001b[39m\u001b[39m{\u001b[39;00msec\u001b[39m}\u001b[39;00m\u001b[39m seconds left\u001b[39m\u001b[39m\"\u001b[39m, end\u001b[39m=\u001b[39m\u001b[39m\"\u001b[39m\u001b[39m\"\u001b[39m)\n\u001b[1;32m---> 21\u001b[0m time\u001b[39m.\u001b[39;49msleep(\u001b[39m1\u001b[39;49m)\n",
      "\u001b[1;31mKeyboardInterrupt\u001b[0m: "
     ]
    }
   ],
   "source": [
    "# birthday countdown\n",
    "import time\n",
    "from datetime import date, datetime\n",
    "\n",
    "while True:\n",
    "    now = datetime.now()\n",
    "    birth = datetime(now.year,7,16,0,0,0)\n",
    "\n",
    "    if birth < now:\n",
    "        birth = datetime(now.year + 1,7,16,0,0,0)\n",
    "\n",
    "    time_left = birth - now\n",
    "    days = str(time_left).split(\" days\")[0]\n",
    "    hours = str(time_left).split(\", \")[1]\n",
    "    hour_min_sec = hours.split(\":\")\n",
    "    hour = hour_min_sec[0]\n",
    "    min = hour_min_sec[1]\n",
    "    sec = hour_min_sec[2][:2]\n",
    "    \n",
    "    print(f\"\\r{days} days, {hour} hours, {min} minutes, {sec} seconds left\", end=\"\")\n",
    "    time.sleep(1)"
   ]
  }
 ],
 "metadata": {
  "kernelspec": {
   "display_name": "Python 3.10.7 64-bit (microsoft store)",
   "language": "python",
   "name": "python3"
  },
  "language_info": {
   "codemirror_mode": {
    "name": "ipython",
    "version": 3
   },
   "file_extension": ".py",
   "mimetype": "text/x-python",
   "name": "python",
   "nbconvert_exporter": "python",
   "pygments_lexer": "ipython3",
   "version": "3.10.7"
  },
  "orig_nbformat": 4,
  "vscode": {
   "interpreter": {
    "hash": "ba33de22a5821ff61dd53097cd70511c2f19fae7b0f9e8b27ee69b6aca2c4956"
   }
  }
 },
 "nbformat": 4,
 "nbformat_minor": 2
}
