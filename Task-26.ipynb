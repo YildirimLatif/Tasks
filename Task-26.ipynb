{
 "cells": [
  {
   "cell_type": "markdown",
   "metadata": {},
   "source": [
    "Task-26: Klavyeden girilen para miktarını şu anda kullanılmakta olan para kupürlerine (200,100,50,20,10,5,1) göre en az sayıda kupür ile ödemek için bir veznedara yardımcı olacak veznedar(para) isimli bir fonksiyonu yazınız.\n",
    "Örneğin klavyeden 2456 girildiğine programın çıktısı aşağıdaki gibi olmalı;\n",
    "12 adet 200 TL\n",
    "1 adet 50 TL\n",
    "1 adet 5 TL\n",
    "1 adet 1 TL\n",
    "verilmeli..."
   ]
  },
  {
   "cell_type": "code",
   "execution_count": 4,
   "metadata": {},
   "outputs": [
    {
     "name": "stdout",
     "output_type": "stream",
     "text": [
      "12 adet 200 TL\n",
      "1 adet 50 TL\n",
      "1 adet 5 TL\n",
      "1 adet 1 TL\n",
      "verilmeli...\n"
     ]
    },
    {
     "data": {
      "text/plain": [
       "'\\n    Foksiyon girilen TL cinsinden para miktarini sirasiyla en yüksek degerli\\n    kupurden en fazla olacak sekilde en az sayida kupur ile odeme planini hesaplar.\\n    Kurus girisi yapilirsa odeme planinda ihmal edilir.\\n    '"
      ]
     },
     "execution_count": 4,
     "metadata": {},
     "output_type": "execute_result"
    }
   ],
   "source": [
    "def veznedar(para):\n",
    "    \"\"\"\n",
    "    Foksiyon girilen TL cinsinden para miktarini sirasiyla en yüksek degerli\n",
    "    kupurden en fazla olacak sekilde en az sayida kupur ile odeme planini hesaplar.\n",
    "    Kurus girisi yapilirsa odeme planinda ihmal edilir.\n",
    "    \"\"\"\n",
    "    \n",
    "    kupur = [200,100,50,20,10,5,1]\n",
    "    for i in kupur:\n",
    "        x = para//i\n",
    "        if x > 0:\n",
    "            print(f\"{x} adet {i} TL\")\n",
    "        para = para%i\n",
    "    print(\"verilmeli...\")\n",
    "veznedar(2456)\n",
    "veznedar.__doc__"
   ]
  }
 ],
 "metadata": {
  "kernelspec": {
   "display_name": "Python 3.10.7 64-bit (microsoft store)",
   "language": "python",
   "name": "python3"
  },
  "language_info": {
   "codemirror_mode": {
    "name": "ipython",
    "version": 3
   },
   "file_extension": ".py",
   "mimetype": "text/x-python",
   "name": "python",
   "nbconvert_exporter": "python",
   "pygments_lexer": "ipython3",
   "version": "3.10.7"
  },
  "orig_nbformat": 4,
  "vscode": {
   "interpreter": {
    "hash": "ba33de22a5821ff61dd53097cd70511c2f19fae7b0f9e8b27ee69b6aca2c4956"
   }
  }
 },
 "nbformat": 4,
 "nbformat_minor": 2
}
